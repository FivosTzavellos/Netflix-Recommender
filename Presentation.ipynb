{
 "cells": [
  {
   "cell_type": "markdown",
   "metadata": {},
   "source": [
    "#### Recommender System\n",
    "A recommender system is a type of information filtering system that helps predict the preference that a user would give to an item. It mainly has commercial applications. Netflix, a streaming service that allows members to watch a wide variety of TV shows and movies uses these kind of systems.\n"
   ]
  },
  {
   "cell_type": "markdown",
   "metadata": {},
   "source": [
    "The main **problem** is trying to recommend things for people to watch in order to keep them engaged with the product. Studies have shown that people lose interest after just one minute of choosing, reviewing 10 to 20 titles.If those titles are not suited for them in a way that they appeal to their interests by being somewhat similar to what they have seen and liked then they abandon the service. The company has collected a huge amount of data, but the difficulties it faces are that the data is too sparse, it requires a quick response from the algorithm and it is of dynamic nature."
   ]
  },
  {
   "cell_type": "markdown",
   "metadata": {},
   "source": [
    "The **solution** is the use of some tools  like cosine similarity, collaborative filtering SVD, weighted mean rating. They collected most of these algorithms through a competition called Netflix Prize. "
   ]
  },
  {
   "cell_type": "markdown",
   "metadata": {},
   "source": []
  },
  {
   "cell_type": "markdown",
   "metadata": {},
   "source": []
  }
 ],
 "metadata": {
  "kernelspec": {
   "display_name": "Python 3",
   "language": "python",
   "name": "python3"
  },
  "language_info": {
   "codemirror_mode": {
    "name": "ipython",
    "version": 3
   },
   "file_extension": ".py",
   "mimetype": "text/x-python",
   "name": "python",
   "nbconvert_exporter": "python",
   "pygments_lexer": "ipython3",
   "version": "3.7.1"
  }
 },
 "nbformat": 4,
 "nbformat_minor": 2
}
